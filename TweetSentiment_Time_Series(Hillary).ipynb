{
 "cells": [
  {
   "cell_type": "code",
   "execution_count": 50,
   "metadata": {
    "collapsed": true
   },
   "outputs": [],
   "source": [
    "import json\n",
    "import nltk\n",
    "import pandas as pd\n",
    "\n",
    "# If you don't set utf8, you could get “UnicodeDecodeError: 'ascii' codec can't decode byte”\n",
    "import sys  \n",
    "reload(sys)  \n",
    "sys.setdefaultencoding('utf8')\n",
    "\n",
    "df = pd.read_csv(\"F:/Data_Files/Twitter_Data/Election2016/Sentiment_Labeling/Tweet_Sentiment_Classification/Election/Hillary_PostElection.csv\", sep = None)\n",
    "#df = pd.read_csv(\"F:/Data_Files/Twitter_Data/Election2016/POTUS_Debates/Cleaned/PotusDebate3str.csv\")"
   ]
  },
  {
   "cell_type": "code",
   "execution_count": 51,
   "metadata": {
    "collapsed": true
   },
   "outputs": [],
   "source": [
    "# Count specific date which contains positive or negative; count specific ntains"
   ]
  },
  {
   "cell_type": "code",
   "execution_count": 52,
   "metadata": {
    "collapsed": false
   },
   "outputs": [
    {
     "data": {
      "text/html": [
       "<div>\n",
       "<table border=\"1\" class=\"dataframe\">\n",
       "  <thead>\n",
       "    <tr style=\"text-align: right;\">\n",
       "      <th></th>\n",
       "      <th>Unnamed: 0</th>\n",
       "      <th>Tweet_time</th>\n",
       "      <th>Language</th>\n",
       "      <th>Country</th>\n",
       "      <th>Tweet</th>\n",
       "      <th>polarity</th>\n",
       "      <th>subjectivity</th>\n",
       "      <th>Sentiment_Prediction</th>\n",
       "    </tr>\n",
       "  </thead>\n",
       "  <tbody>\n",
       "    <tr>\n",
       "      <th>0</th>\n",
       "      <td>0</td>\n",
       "      <td>Wed Nov 09 04:44:27 +0000 2016</td>\n",
       "      <td>en</td>\n",
       "      <td>NaN</td>\n",
       "      <td>Fox News projects HillaryClinton wins the stat...</td>\n",
       "      <td>0.30</td>\n",
       "      <td>0.200000</td>\n",
       "      <td>non-negative</td>\n",
       "    </tr>\n",
       "    <tr>\n",
       "      <th>1</th>\n",
       "      <td>1</td>\n",
       "      <td>Wed Nov 09 04:44:28 +0000 2016</td>\n",
       "      <td>en</td>\n",
       "      <td>NaN</td>\n",
       "      <td>This is what full on panic looks like bitches....</td>\n",
       "      <td>0.35</td>\n",
       "      <td>0.550000</td>\n",
       "      <td>non-negative</td>\n",
       "    </tr>\n",
       "    <tr>\n",
       "      <th>2</th>\n",
       "      <td>2</td>\n",
       "      <td>Wed Nov 09 04:44:28 +0000 2016</td>\n",
       "      <td>en</td>\n",
       "      <td>NaN</td>\n",
       "      <td>DEMOCRATS BE LIKE 😳\\ntrumptrain🚂🇺🇸💨 elect...</td>\n",
       "      <td>0.00</td>\n",
       "      <td>0.000000</td>\n",
       "      <td>non-negative</td>\n",
       "    </tr>\n",
       "    <tr>\n",
       "      <th>3</th>\n",
       "      <td>3</td>\n",
       "      <td>Wed Nov 09 04:44:28 +0000 2016</td>\n",
       "      <td>en</td>\n",
       "      <td>NaN</td>\n",
       "      <td>billmaher You've been uncharacteristically qui...</td>\n",
       "      <td>0.40</td>\n",
       "      <td>0.516667</td>\n",
       "      <td>non-negative</td>\n",
       "    </tr>\n",
       "    <tr>\n",
       "      <th>4</th>\n",
       "      <td>4</td>\n",
       "      <td>Wed Nov 09 04:44:29 +0000 2016</td>\n",
       "      <td>und</td>\n",
       "      <td>US</td>\n",
       "      <td>L https://t.co/KTGSmDai3l</td>\n",
       "      <td>0.00</td>\n",
       "      <td>0.000000</td>\n",
       "      <td>non-negative</td>\n",
       "    </tr>\n",
       "  </tbody>\n",
       "</table>\n",
       "</div>"
      ],
      "text/plain": [
       "   Unnamed: 0                      Tweet_time Language Country  \\\n",
       "0           0  Wed Nov 09 04:44:27 +0000 2016       en     NaN   \n",
       "1           1  Wed Nov 09 04:44:28 +0000 2016       en     NaN   \n",
       "2           2  Wed Nov 09 04:44:28 +0000 2016       en     NaN   \n",
       "3           3  Wed Nov 09 04:44:28 +0000 2016       en     NaN   \n",
       "4           4  Wed Nov 09 04:44:29 +0000 2016      und      US   \n",
       "\n",
       "                                               Tweet  polarity  subjectivity  \\\n",
       "0  Fox News projects HillaryClinton wins the stat...      0.30      0.200000   \n",
       "1  This is what full on panic looks like bitches....      0.35      0.550000   \n",
       "2  DEMOCRATS BE LIKE ≡ƒÿ│\\ntrumptrain≡ƒÜé≡ƒç║≡ƒç╕≡ƒÆ¿ elect...      0.00      0.000000   \n",
       "3  billmaher You've been uncharacteristically qui...      0.40      0.516667   \n",
       "4                          L https://t.co/KTGSmDai3l      0.00      0.000000   \n",
       "\n",
       "  Sentiment_Prediction  \n",
       "0         non-negative  \n",
       "1         non-negative  \n",
       "2         non-negative  \n",
       "3         non-negative  \n",
       "4         non-negative  "
      ]
     },
     "execution_count": 52,
     "metadata": {},
     "output_type": "execute_result"
    }
   ],
   "source": [
    "df.head()"
   ]
  },
  {
   "cell_type": "code",
   "execution_count": 53,
   "metadata": {
    "collapsed": false
   },
   "outputs": [
    {
     "data": {
      "text/plain": [
       "'Negative Tweets:0, Non-Negative Tweets:0'"
      ]
     },
     "execution_count": 53,
     "metadata": {},
     "output_type": "execute_result"
    }
   ],
   "source": [
    "Oct29 = df[df['Tweet_time'].str.contains(\"Sat Oct 29\")== True]\n",
    "Oct29_neg = Oct29[Oct29.Sentiment_Prediction == 'negative']\n",
    "Oct29_nonneg = Oct29[Oct29.Sentiment_Prediction == 'non-negative']\n",
    "x1 =  'Negative Tweets:' + repr(len(Oct29)) + ', Non-Negative Tweets:' + repr(len(Oct29_nonneg))\n",
    "x1"
   ]
  },
  {
   "cell_type": "code",
   "execution_count": 54,
   "metadata": {
    "collapsed": false
   },
   "outputs": [
    {
     "data": {
      "text/plain": [
       "'Negative Tweets:0, Non-Negative Tweets:0'"
      ]
     },
     "execution_count": 54,
     "metadata": {},
     "output_type": "execute_result"
    }
   ],
   "source": [
    "Oct30 = df[df['Tweet_time'].str.contains(\"Sun Oct 30\")== True]\n",
    "Oct30_neg = Oct30[Oct30.Sentiment_Prediction == 'negative']\n",
    "Oct30_nonneg = Oct30[Oct30.Sentiment_Prediction == 'non-negative']\n",
    "x2 =  'Negative Tweets:' + repr(len(Oct30)) + ', Non-Negative Tweets:' + repr(len(Oct30_nonneg))\n",
    "x2"
   ]
  },
  {
   "cell_type": "code",
   "execution_count": 55,
   "metadata": {
    "collapsed": false
   },
   "outputs": [
    {
     "data": {
      "text/plain": [
       "'Negative Tweets:0, Non-Negative Tweets:0'"
      ]
     },
     "execution_count": 55,
     "metadata": {},
     "output_type": "execute_result"
    }
   ],
   "source": [
    "Oct31 = df[df['Tweet_time'].str.contains(\"Mon Oct 31\")== True]\n",
    "Oct31_neg = Oct31[Oct31.Sentiment_Prediction == 'negative']\n",
    "Oct31_nonneg = Oct31[Oct31.Sentiment_Prediction == 'non-negative']\n",
    "x3 =  'Negative Tweets:' + repr(len(Oct31)) + ', Non-Negative Tweets:' + repr(len(Oct31_nonneg))\n",
    "x3"
   ]
  },
  {
   "cell_type": "code",
   "execution_count": 56,
   "metadata": {
    "collapsed": false
   },
   "outputs": [
    {
     "data": {
      "text/plain": [
       "'Negative Tweets:0, Non-Negative Tweets:0'"
      ]
     },
     "execution_count": 56,
     "metadata": {},
     "output_type": "execute_result"
    }
   ],
   "source": [
    "Nov01 = df[df['Tweet_time'].str.contains(\"Tue Nov 01\")== True]\n",
    "Nov01_neg = Nov01[Nov01.Sentiment_Prediction == 'negative']\n",
    "Nov01_nonneg = Nov01[Nov01.Sentiment_Prediction == 'non-negative']\n",
    "x4 =  'Negative Tweets:' + repr(len(Nov01)) + ', Non-Negative Tweets:' + repr(len(Nov01_nonneg))\n",
    "x4"
   ]
  },
  {
   "cell_type": "code",
   "execution_count": 57,
   "metadata": {
    "collapsed": false
   },
   "outputs": [
    {
     "data": {
      "text/plain": [
       "'Negative Tweets:0, Non-Negative Tweets:0'"
      ]
     },
     "execution_count": 57,
     "metadata": {},
     "output_type": "execute_result"
    }
   ],
   "source": [
    "Nov02 = df[df['Tweet_time'].str.contains(\"Wed Nov 02\")== True]\n",
    "Nov02_neg = Nov02[Nov02.Sentiment_Prediction == 'negative']\n",
    "Nov02_nonneg = Nov02[Nov02.Sentiment_Prediction == 'non-negative']\n",
    "x5 =  'Negative Tweets:' + repr(len(Nov02)) + ', Non-Negative Tweets:' + repr(len(Nov02_nonneg))\n",
    "x5"
   ]
  },
  {
   "cell_type": "code",
   "execution_count": 58,
   "metadata": {
    "collapsed": false
   },
   "outputs": [
    {
     "data": {
      "text/plain": [
       "'Negative Tweets:0, Non-Negative Tweets:0'"
      ]
     },
     "execution_count": 58,
     "metadata": {},
     "output_type": "execute_result"
    }
   ],
   "source": [
    "Nov03 = df[df['Tweet_time'].str.contains(\"Thu Nov 03\")== True]\n",
    "Nov03_neg = Nov03[Nov03.Sentiment_Prediction == 'negative']\n",
    "Nov03_nonneg = Nov03[Nov03.Sentiment_Prediction == 'non-negative']\n",
    "X6 =  'Negative Tweets:' + repr(len(Nov03)) + ', Non-Negative Tweets:' + repr(len(Nov03_nonneg))\n",
    "X6"
   ]
  },
  {
   "cell_type": "code",
   "execution_count": 59,
   "metadata": {
    "collapsed": false
   },
   "outputs": [
    {
     "data": {
      "text/plain": [
       "'Negative Tweets:0, Non-Negative Tweets:0'"
      ]
     },
     "execution_count": 59,
     "metadata": {},
     "output_type": "execute_result"
    }
   ],
   "source": [
    "Nov04 = df[df['Tweet_time'].str.contains(\"Fri Nov 04\")== True]\n",
    "Nov04_neg = Nov04[Nov04.Sentiment_Prediction == 'negative']\n",
    "Nov04_nonneg = Nov04[Nov04.Sentiment_Prediction == 'non-negative']\n",
    "X7 =  'Negative Tweets:' + repr(len(Nov04)) + ', Non-Negative Tweets:' + repr(len(Nov04_nonneg))\n",
    "X7"
   ]
  },
  {
   "cell_type": "code",
   "execution_count": 60,
   "metadata": {
    "collapsed": false
   },
   "outputs": [
    {
     "data": {
      "text/plain": [
       "'Negative Tweets:0, Non-Negative Tweets:0'"
      ]
     },
     "execution_count": 60,
     "metadata": {},
     "output_type": "execute_result"
    }
   ],
   "source": [
    "Nov05 = df[df['Tweet_time'].str.contains(\"Sat Nov 05\")== True]\n",
    "Nov05_neg = Nov05[Nov05.Sentiment_Prediction == 'negative']\n",
    "Nov05_nonneg = Nov05[Nov05.Sentiment_Prediction == 'non-negative']\n",
    "X8 =  'Negative Tweets:' + repr(len(Nov05)) + ', Non-Negative Tweets:' + repr(len(Nov05_nonneg))\n",
    "X8"
   ]
  },
  {
   "cell_type": "code",
   "execution_count": 61,
   "metadata": {
    "collapsed": false
   },
   "outputs": [
    {
     "data": {
      "text/plain": [
       "'Negative Tweets:0, Non-Negative Tweets:0'"
      ]
     },
     "execution_count": 61,
     "metadata": {},
     "output_type": "execute_result"
    }
   ],
   "source": [
    "Nov06 = df[df['Tweet_time'].str.contains(\"Sun Nov 06\")== True]\n",
    "Nov06_neg = Nov06[Nov06.Sentiment_Prediction == 'negative']\n",
    "Nov06_nonneg = Nov06[Nov06.Sentiment_Prediction == 'non-negative']\n",
    "X9 =  'Negative Tweets:' + repr(len(Nov06)) + ', Non-Negative Tweets:' + repr(len(Nov06_nonneg))\n",
    "X9"
   ]
  },
  {
   "cell_type": "code",
   "execution_count": 62,
   "metadata": {
    "collapsed": false
   },
   "outputs": [
    {
     "data": {
      "text/plain": [
       "'Negative Tweets:0, Non-Negative Tweets:0'"
      ]
     },
     "execution_count": 62,
     "metadata": {},
     "output_type": "execute_result"
    }
   ],
   "source": [
    "Nov07 = df[df['Tweet_time'].str.contains(\"Mon Nov 07\")== True]\n",
    "Nov07_neg = Nov07[Nov07.Sentiment_Prediction == 'negative']\n",
    "Nov07_nonneg = Nov07[Nov07.Sentiment_Prediction == 'non-negative']\n",
    "X10 =  'Negative Tweets:' + repr(len(Nov07)) + ', Non-Negative Tweets:' + repr(len(Nov07_nonneg))\n",
    "X10"
   ]
  },
  {
   "cell_type": "code",
   "execution_count": 63,
   "metadata": {
    "collapsed": false
   },
   "outputs": [
    {
     "data": {
      "text/plain": [
       "'Negative Tweets:0, Non-Negative Tweets:0'"
      ]
     },
     "execution_count": 63,
     "metadata": {},
     "output_type": "execute_result"
    }
   ],
   "source": [
    "Nov08 = df[df['Tweet_time'].str.contains(\"Tue Nov 08\")== True]\n",
    "Nov08_neg = Nov08[Nov08.Sentiment_Prediction == 'negative']\n",
    "Nov08_nonneg = Nov08[Nov08.Sentiment_Prediction == 'non-negative']\n",
    "X11 =  'Negative Tweets:' + repr(len(Nov08)) + ', Non-Negative Tweets:' + repr(len(Nov08_nonneg))\n",
    "X11"
   ]
  },
  {
   "cell_type": "code",
   "execution_count": 64,
   "metadata": {
    "collapsed": false
   },
   "outputs": [
    {
     "data": {
      "text/plain": [
       "'Negative Tweets:25891, Non-Negative Tweets:22290'"
      ]
     },
     "execution_count": 64,
     "metadata": {},
     "output_type": "execute_result"
    }
   ],
   "source": [
    "Nov09 = df[df['Tweet_time'].str.contains(\"Wed Nov 09\")== True]\n",
    "Nov09_neg = Nov09[Nov09.Sentiment_Prediction == 'negative']\n",
    "Nov09_nonneg = Nov09[Nov09.Sentiment_Prediction == 'non-negative']\n",
    "X12 =  'Negative Tweets:' + repr(len(Nov09)) + ', Non-Negative Tweets:' + repr(len(Nov09_nonneg))\n",
    "X12\t"
   ]
  },
  {
   "cell_type": "code",
   "execution_count": 65,
   "metadata": {
    "collapsed": false
   },
   "outputs": [
    {
     "data": {
      "text/plain": [
       "'Negative Tweets:118, Non-Negative Tweets:94'"
      ]
     },
     "execution_count": 65,
     "metadata": {},
     "output_type": "execute_result"
    }
   ],
   "source": [
    "Nov10 = df[df['Tweet_time'].str.contains(\"Thu Nov 10\")== True]\n",
    "Nov10_neg = Nov10[Nov10.Sentiment_Prediction == 'negative']\n",
    "Nov10_nonneg = Nov10[Nov10.Sentiment_Prediction == 'non-negative']\n",
    "X13 =  'Negative Tweets:' + repr(len(Nov10)) + ', Non-Negative Tweets:' + repr(len(Nov10_nonneg))\n",
    "X13\t"
   ]
  }
 ],
 "metadata": {
  "kernelspec": {
   "display_name": "Python 2",
   "language": "python",
   "name": "python2"
  },
  "language_info": {
   "codemirror_mode": {
    "name": "ipython",
    "version": 2
   },
   "file_extension": ".py",
   "mimetype": "text/x-python",
   "name": "python",
   "nbconvert_exporter": "python",
   "pygments_lexer": "ipython2",
   "version": "2.7.12"
  }
 },
 "nbformat": 4,
 "nbformat_minor": 0
}
