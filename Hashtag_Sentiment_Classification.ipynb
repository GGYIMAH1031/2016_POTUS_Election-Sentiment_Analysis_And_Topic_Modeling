{
 "cells": [
  {
   "cell_type": "code",
   "execution_count": 89,
   "metadata": {
    "collapsed": true
   },
   "outputs": [],
   "source": [
    "import json\n",
    "import nltk\n",
    "import pandas as pd\n",
    "\n",
    "# If you don't set utf8, you could get “UnicodeDecodeError: 'ascii' codec can't decode byte”\n",
    "import sys  \n",
    "reload(sys)  \n",
    "sys.setdefaultencoding('utf8')\n",
    "\n",
    "df = pd.read_csv(\"F:/Data_Files/Twitter_Data/Election2016/Sentiment_Labeling/Hashtag_Sentiment_Classification/All_train_data_Labelled(Binary).csv\", sep = None)\n",
    "#df = pd.read_csv(\"F:/Data_Files/Twitter_Data/Election2016/POTUS_Debates/Cleaned/PotusDebate3str.csv\")"
   ]
  },
  {
   "cell_type": "code",
   "execution_count": 90,
   "metadata": {
    "collapsed": true
   },
   "outputs": [],
   "source": [
    "# Toggle through all four, one by one\n",
    "# HILLARY NEGATIVE\n",
    "#df = df[df['Tweet'].str.contains(\"#neverhillary|#whyimnotvotingforhillary|#voterfraud|\\\n",
    "#fuckhillary|#imnotwithher|#HillaryForPrison|#HillaryForPrision|#DeleteYourAccount|\\\n",
    "#crookedhillary|#lockherup\")]\n",
    "\n",
    "\n",
    "# HILLARY POSITIVE\n",
    "#df = df[df['Tweet'].str.contains(\"#imwithher|#strongertogether|#tellamericaitsgreat\")]\n",
    "\n",
    "\n",
    "\n",
    "# TRUMP NEGATIVE\n",
    "\n",
    "#df = df[df['Tweet'].str.contains(\"#antitrump|#fucktrump|#trumptrainwreck|\\\n",
    "#BoycottTrump|#NeverTrump|#LoveTrumpsHate|#drumpf2016|#drumpf|#MakeDonaldDrumpfAgain|\\\n",
    "#dumptrump\")]\n",
    "\n",
    "\n",
    "# TRUMP POSITIVE\n",
    "df = df[df['Tweet'].str.contains(\"draintheswamp|#trumpforpresident|#gaysfortrump|\\\n",
    "#latinosfortrump|#trumptrain|#PresidentTrump|#repealthe19th|#votetrump|#maga|\\\n",
    "#deplorablesfortrump|#makeamericagreatagain\")]\n",
    "\n",
    "\n"
   ]
  },
  {
   "cell_type": "code",
   "execution_count": 91,
   "metadata": {
    "collapsed": true
   },
   "outputs": [],
   "source": [
    "# Count specific date which contains positive or negative; count specific ntains"
   ]
  },
  {
   "cell_type": "code",
   "execution_count": 92,
   "metadata": {
    "collapsed": false
   },
   "outputs": [
    {
     "data": {
      "text/html": [
       "<div>\n",
       "<table border=\"1\" class=\"dataframe\">\n",
       "  <thead>\n",
       "    <tr style=\"text-align: right;\">\n",
       "      <th></th>\n",
       "      <th>Unnamed: 0</th>\n",
       "      <th>User_ID</th>\n",
       "      <th>Tweet_time</th>\n",
       "      <th>Tweet_ID</th>\n",
       "      <th>Language</th>\n",
       "      <th>Country</th>\n",
       "      <th>Tweet</th>\n",
       "      <th>Actual_Sentiment</th>\n",
       "      <th>Sentiment_Prediction</th>\n",
       "    </tr>\n",
       "  </thead>\n",
       "  <tbody>\n",
       "    <tr>\n",
       "      <th>4</th>\n",
       "      <td>4</td>\n",
       "      <td>1.717464e+09</td>\n",
       "      <td>Sun Nov 06 23:22:23 +0000 2016</td>\n",
       "      <td>7.950000e+17</td>\n",
       "      <td>en</td>\n",
       "      <td>NaN</td>\n",
       "      <td>Who is going to win on Tuesday? #Election2016 ...</td>\n",
       "      <td>nutral</td>\n",
       "      <td>positive</td>\n",
       "    </tr>\n",
       "    <tr>\n",
       "      <th>115</th>\n",
       "      <td>115</td>\n",
       "      <td>3.784206e+08</td>\n",
       "      <td>Sat Nov 05 20:45:47 +0000 2016</td>\n",
       "      <td>7.950000e+17</td>\n",
       "      <td>en</td>\n",
       "      <td>NaN</td>\n",
       "      <td>The murky swamp dwellers that head up Donald T...</td>\n",
       "      <td>negative</td>\n",
       "      <td>positive</td>\n",
       "    </tr>\n",
       "    <tr>\n",
       "      <th>151</th>\n",
       "      <td>151</td>\n",
       "      <td>9.375166e+08</td>\n",
       "      <td>Fri Nov 04 22:54:54 +0000 2016</td>\n",
       "      <td>7.950000e+17</td>\n",
       "      <td>en</td>\n",
       "      <td>NaN</td>\n",
       "      <td>https://t.co/TSjJBgKvIj How to be presidential...</td>\n",
       "      <td>nutral</td>\n",
       "      <td>positive</td>\n",
       "    </tr>\n",
       "    <tr>\n",
       "      <th>163</th>\n",
       "      <td>163</td>\n",
       "      <td>9.375166e+08</td>\n",
       "      <td>Fri Nov 04 20:39:09 +0000 2016</td>\n",
       "      <td>7.950000e+17</td>\n",
       "      <td>en</td>\n",
       "      <td>GB</td>\n",
       "      <td>https://t.co/muUEmaJzYt This weeks lies told b...</td>\n",
       "      <td>negative</td>\n",
       "      <td>positive</td>\n",
       "    </tr>\n",
       "    <tr>\n",
       "      <th>165</th>\n",
       "      <td>165</td>\n",
       "      <td>9.375166e+08</td>\n",
       "      <td>Fri Nov 04 19:45:35 +0000 2016</td>\n",
       "      <td>7.950000e+17</td>\n",
       "      <td>en</td>\n",
       "      <td>GB</td>\n",
       "      <td>https://t.co/e7hjl1Op4K @realDonaldTrump kicks...</td>\n",
       "      <td>negative</td>\n",
       "      <td>positive</td>\n",
       "    </tr>\n",
       "  </tbody>\n",
       "</table>\n",
       "</div>"
      ],
      "text/plain": [
       "     Unnamed: 0       User_ID                      Tweet_time      Tweet_ID  \\\n",
       "4             4  1.717464e+09  Sun Nov 06 23:22:23 +0000 2016  7.950000e+17   \n",
       "115         115  3.784206e+08  Sat Nov 05 20:45:47 +0000 2016  7.950000e+17   \n",
       "151         151  9.375166e+08  Fri Nov 04 22:54:54 +0000 2016  7.950000e+17   \n",
       "163         163  9.375166e+08  Fri Nov 04 20:39:09 +0000 2016  7.950000e+17   \n",
       "165         165  9.375166e+08  Fri Nov 04 19:45:35 +0000 2016  7.950000e+17   \n",
       "\n",
       "    Language Country                                              Tweet  \\\n",
       "4         en     NaN  Who is going to win on Tuesday? #Election2016 ...   \n",
       "115       en     NaN  The murky swamp dwellers that head up Donald T...   \n",
       "151       en     NaN  https://t.co/TSjJBgKvIj How to be presidential...   \n",
       "163       en      GB  https://t.co/muUEmaJzYt This weeks lies told b...   \n",
       "165       en      GB  https://t.co/e7hjl1Op4K @realDonaldTrump kicks...   \n",
       "\n",
       "    Actual_Sentiment Sentiment_Prediction  \n",
       "4             nutral             positive  \n",
       "115         negative             positive  \n",
       "151           nutral             positive  \n",
       "163         negative             positive  \n",
       "165         negative             positive  "
      ]
     },
     "execution_count": 92,
     "metadata": {},
     "output_type": "execute_result"
    }
   ],
   "source": [
    "df.head()"
   ]
  },
  {
   "cell_type": "code",
   "execution_count": 93,
   "metadata": {
    "collapsed": false
   },
   "outputs": [
    {
     "data": {
      "text/plain": [
       "'Total Tweets:0, Non-Negative Tweets:0'"
      ]
     },
     "execution_count": 93,
     "metadata": {},
     "output_type": "execute_result"
    }
   ],
   "source": [
    "Oct29 = df[df['Tweet_time'].str.contains(\"Sat Oct 29\")== True]\n",
    "Oct29_neg = Oct29[Oct29.Sentiment_Prediction == 'negative']\n",
    "Oct29_nonneg = Oct29[Oct29.Sentiment_Prediction == 'non-negative']\n",
    "x1 =  'Total Tweets:' + repr(len(Oct29)) + ', Non-Negative Tweets:' + repr(len(Oct29_nonneg))\n",
    "x1"
   ]
  },
  {
   "cell_type": "code",
   "execution_count": 94,
   "metadata": {
    "collapsed": false
   },
   "outputs": [
    {
     "data": {
      "text/plain": [
       "'Total Tweets:5, Non-Negative Tweets:0'"
      ]
     },
     "execution_count": 94,
     "metadata": {},
     "output_type": "execute_result"
    }
   ],
   "source": [
    "Oct30 = df[df['Tweet_time'].str.contains(\"Sun Oct 30\")== True]\n",
    "Oct30_neg = Oct30[Oct30.Sentiment_Prediction == 'negative']\n",
    "Oct30_nonneg = Oct30[Oct30.Sentiment_Prediction == 'non-negative']\n",
    "x2 =  'Total Tweets:' + repr(len(Oct30)) + ', Non-Negative Tweets:' + repr(len(Oct30_nonneg))\n",
    "x2"
   ]
  },
  {
   "cell_type": "code",
   "execution_count": 95,
   "metadata": {
    "collapsed": false
   },
   "outputs": [
    {
     "data": {
      "text/plain": [
       "'Total Tweets:3, Non-Negative Tweets:0'"
      ]
     },
     "execution_count": 95,
     "metadata": {},
     "output_type": "execute_result"
    }
   ],
   "source": [
    "Oct31 = df[df['Tweet_time'].str.contains(\"Mon Oct 31\")== True]\n",
    "Oct31_neg = Oct31[Oct31.Sentiment_Prediction == 'negative']\n",
    "Oct31_nonneg = Oct31[Oct31.Sentiment_Prediction == 'non-negative']\n",
    "x3 =  'Total Tweets:' + repr(len(Oct31)) + ', Non-Negative Tweets:' + repr(len(Oct31_nonneg))\n",
    "x3"
   ]
  },
  {
   "cell_type": "code",
   "execution_count": 96,
   "metadata": {
    "collapsed": false
   },
   "outputs": [
    {
     "data": {
      "text/plain": [
       "'Total Tweets:3, Non-Negative Tweets:0'"
      ]
     },
     "execution_count": 96,
     "metadata": {},
     "output_type": "execute_result"
    }
   ],
   "source": [
    "Nov01 = df[df['Tweet_time'].str.contains(\"Tue Nov 01\")== True]\n",
    "Nov01_neg = Nov01[Nov01.Sentiment_Prediction == 'negative']\n",
    "Nov01_nonneg = Nov01[Nov01.Sentiment_Prediction == 'non-negative']\n",
    "x4 =  'Total Tweets:' + repr(len(Nov01)) + ', Non-Negative Tweets:' + repr(len(Nov01_nonneg))\n",
    "x4"
   ]
  },
  {
   "cell_type": "code",
   "execution_count": 97,
   "metadata": {
    "collapsed": false
   },
   "outputs": [
    {
     "data": {
      "text/plain": [
       "'Total Tweets:4, Non-Negative Tweets:0'"
      ]
     },
     "execution_count": 97,
     "metadata": {},
     "output_type": "execute_result"
    }
   ],
   "source": [
    "Nov02 = df[df['Tweet_time'].str.contains(\"Wed Nov 02\")== True]\n",
    "Nov02_neg = Nov02[Nov02.Sentiment_Prediction == 'negative']\n",
    "Nov02_nonneg = Nov02[Nov02.Sentiment_Prediction == 'non-negative']\n",
    "x5 =  'Total Tweets:' + repr(len(Nov02)) + ', Non-Negative Tweets:' + repr(len(Nov02_nonneg))\n",
    "x5"
   ]
  },
  {
   "cell_type": "code",
   "execution_count": 98,
   "metadata": {
    "collapsed": false
   },
   "outputs": [
    {
     "data": {
      "text/plain": [
       "'Total Tweets:1, Non-Negative Tweets:0'"
      ]
     },
     "execution_count": 98,
     "metadata": {},
     "output_type": "execute_result"
    }
   ],
   "source": [
    "Nov03 = df[df['Tweet_time'].str.contains(\"Thu Nov 03\")== True]\n",
    "Nov03_neg = Nov03[Nov03.Sentiment_Prediction == 'negative']\n",
    "Nov03_nonneg = Nov03[Nov03.Sentiment_Prediction == 'non-negative']\n",
    "X6 =  'Total Tweets:' + repr(len(Nov03)) + ', Non-Negative Tweets:' + repr(len(Nov03_nonneg))\n",
    "X6"
   ]
  },
  {
   "cell_type": "code",
   "execution_count": 99,
   "metadata": {
    "collapsed": false
   },
   "outputs": [
    {
     "data": {
      "text/plain": [
       "'Total Tweets:4, Non-Negative Tweets:0'"
      ]
     },
     "execution_count": 99,
     "metadata": {},
     "output_type": "execute_result"
    }
   ],
   "source": [
    "Nov04 = df[df['Tweet_time'].str.contains(\"Fri Nov 04\")== True]\n",
    "Nov04_neg = Nov04[Nov04.Sentiment_Prediction == 'negative']\n",
    "Nov04_nonneg = Nov04[Nov04.Sentiment_Prediction == 'non-negative']\n",
    "X7 =  'Total Tweets:' + repr(len(Nov04)) + ', Non-Negative Tweets:' + repr(len(Nov04_nonneg))\n",
    "X7"
   ]
  },
  {
   "cell_type": "code",
   "execution_count": 100,
   "metadata": {
    "collapsed": false
   },
   "outputs": [
    {
     "data": {
      "text/plain": [
       "'Total Tweets:3, Non-Negative Tweets:0'"
      ]
     },
     "execution_count": 100,
     "metadata": {},
     "output_type": "execute_result"
    }
   ],
   "source": [
    "Nov05 = df[df['Tweet_time'].str.contains(\"Sat Nov 05\")== True]\n",
    "Nov05_neg = Nov05[Nov05.Sentiment_Prediction == 'negative']\n",
    "Nov05_nonneg = Nov05[Nov05.Sentiment_Prediction == 'non-negative']\n",
    "X8 =  'Total Tweets:' + repr(len(Nov05)) + ', Non-Negative Tweets:' + repr(len(Nov05_nonneg))\n",
    "X8"
   ]
  },
  {
   "cell_type": "code",
   "execution_count": 101,
   "metadata": {
    "collapsed": false
   },
   "outputs": [
    {
     "data": {
      "text/plain": [
       "'Total Tweets:9, Non-Negative Tweets:0'"
      ]
     },
     "execution_count": 101,
     "metadata": {},
     "output_type": "execute_result"
    }
   ],
   "source": [
    "Nov06 = df[df['Tweet_time'].str.contains(\"Sun Nov 06\")== True]\n",
    "Nov06_neg = Nov06[Nov06.Sentiment_Prediction == 'negative']\n",
    "Nov06_nonneg = Nov06[Nov06.Sentiment_Prediction == 'non-negative']\n",
    "X9 =  'Total Tweets:' + repr(len(Nov06)) + ', Non-Negative Tweets:' + repr(len(Nov06_nonneg))\n",
    "X9"
   ]
  },
  {
   "cell_type": "code",
   "execution_count": 102,
   "metadata": {
    "collapsed": false
   },
   "outputs": [
    {
     "data": {
      "text/plain": [
       "'Total Tweets:0, Non-Negative Tweets:0'"
      ]
     },
     "execution_count": 102,
     "metadata": {},
     "output_type": "execute_result"
    }
   ],
   "source": [
    "Nov07 = df[df['Tweet_time'].str.contains(\"Mon Nov 07\")== True]\n",
    "Nov07_neg = Nov07[Nov07.Sentiment_Prediction == 'negative']\n",
    "Nov07_nonneg = Nov07[Nov07.Sentiment_Prediction == 'non-negative']\n",
    "X10 =  'Total Tweets:' + repr(len(Nov07)) + ', Non-Negative Tweets:' + repr(len(Nov07_nonneg))\n",
    "X10"
   ]
  },
  {
   "cell_type": "code",
   "execution_count": 103,
   "metadata": {
    "collapsed": false
   },
   "outputs": [
    {
     "data": {
      "text/plain": [
       "'Total Tweets:43, Non-Negative Tweets:0'"
      ]
     },
     "execution_count": 103,
     "metadata": {},
     "output_type": "execute_result"
    }
   ],
   "source": [
    "Nov08 = df[df['Tweet_time'].str.contains(\"Tue Nov 08\")== True]\n",
    "Nov08_neg = Nov08[Nov08.Sentiment_Prediction == 'negative']\n",
    "Nov08_nonneg = Nov08[Nov08.Sentiment_Prediction == 'non-negative']\n",
    "X11 =  'Total Tweets:' + repr(len(Nov08)) + ', Non-Negative Tweets:' + repr(len(Nov08_nonneg))\n",
    "X11"
   ]
  },
  {
   "cell_type": "code",
   "execution_count": 104,
   "metadata": {
    "collapsed": false
   },
   "outputs": [
    {
     "data": {
      "text/plain": [
       "'Total Tweets:24, Non-Negative Tweets:0'"
      ]
     },
     "execution_count": 104,
     "metadata": {},
     "output_type": "execute_result"
    }
   ],
   "source": [
    "Nov09 = df[df['Tweet_time'].str.contains(\"Wed Nov 09\")== True]\n",
    "Nov09_neg = Nov09[Nov09.Sentiment_Prediction == 'negative']\n",
    "Nov09_nonneg = Nov09[Nov09.Sentiment_Prediction == 'non-negative']\n",
    "X12 =  'Total Tweets:' + repr(len(Nov09)) + ', Non-Negative Tweets:' + repr(len(Nov09_nonneg))\n",
    "X12\t"
   ]
  },
  {
   "cell_type": "code",
   "execution_count": 105,
   "metadata": {
    "collapsed": false
   },
   "outputs": [
    {
     "data": {
      "text/plain": [
       "'Total Tweets:1, Non-Negative Tweets:0'"
      ]
     },
     "execution_count": 105,
     "metadata": {},
     "output_type": "execute_result"
    }
   ],
   "source": [
    "Nov10 = df[df['Tweet_time'].str.contains(\"Thu Nov 10\")== True]\n",
    "Nov10_neg = Nov10[Nov10.Sentiment_Prediction == 'negative']\n",
    "Nov10_nonneg = Nov10[Nov10.Sentiment_Prediction == 'non-negative']\n",
    "X13 =  'Total Tweets:' + repr(len(Nov10)) + ', Non-Negative Tweets:' + repr(len(Nov10_nonneg))\n",
    "X13\t"
   ]
  }
 ],
 "metadata": {
  "kernelspec": {
   "display_name": "Python 2",
   "language": "python",
   "name": "python2"
  },
  "language_info": {
   "codemirror_mode": {
    "name": "ipython",
    "version": 2
   },
   "file_extension": ".py",
   "mimetype": "text/x-python",
   "name": "python",
   "nbconvert_exporter": "python",
   "pygments_lexer": "ipython2",
   "version": "2.7.12"
  }
 },
 "nbformat": 4,
 "nbformat_minor": 0
}
